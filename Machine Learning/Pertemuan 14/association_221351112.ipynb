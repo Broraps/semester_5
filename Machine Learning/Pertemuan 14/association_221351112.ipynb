{
 "cells": [
  {
   "cell_type": "markdown",
   "metadata": {},
   "source": [
    "### Raffi Argianda\n",
    "### 221351112\n",
    "### Malam B"
   ]
  },
  {
   "cell_type": "markdown",
   "metadata": {},
   "source": [
    "### Load DataSet"
   ]
  },
  {
   "cell_type": "code",
   "execution_count": 42,
   "metadata": {},
   "outputs": [],
   "source": [
    "import pandas as pd \n",
    "import matplotlib.pyplot as plt \n",
    "from mlxtend.frequent_patterns import apriori, fpgrowth\n",
    "from mlxtend.frequent_patterns import association_rules\n",
    "from mlxtend.preprocessing import TransactionEncoder"
   ]
  },
  {
   "cell_type": "code",
   "execution_count": 43,
   "metadata": {},
   "outputs": [
    {
     "data": {
      "text/html": [
       "<div>\n",
       "<style scoped>\n",
       "    .dataframe tbody tr th:only-of-type {\n",
       "        vertical-align: middle;\n",
       "    }\n",
       "\n",
       "    .dataframe tbody tr th {\n",
       "        vertical-align: top;\n",
       "    }\n",
       "\n",
       "    .dataframe thead th {\n",
       "        text-align: right;\n",
       "    }\n",
       "</style>\n",
       "<table border=\"1\" class=\"dataframe\">\n",
       "  <thead>\n",
       "    <tr style=\"text-align: right;\">\n",
       "      <th></th>\n",
       "      <th>Member_number</th>\n",
       "      <th>Date</th>\n",
       "      <th>itemDescription</th>\n",
       "    </tr>\n",
       "  </thead>\n",
       "  <tbody>\n",
       "    <tr>\n",
       "      <th>0</th>\n",
       "      <td>1808</td>\n",
       "      <td>21-07-2015</td>\n",
       "      <td>tropical fruit</td>\n",
       "    </tr>\n",
       "    <tr>\n",
       "      <th>1</th>\n",
       "      <td>2552</td>\n",
       "      <td>05-01-2015</td>\n",
       "      <td>whole milk</td>\n",
       "    </tr>\n",
       "    <tr>\n",
       "      <th>2</th>\n",
       "      <td>2300</td>\n",
       "      <td>19-09-2015</td>\n",
       "      <td>pip fruit</td>\n",
       "    </tr>\n",
       "    <tr>\n",
       "      <th>3</th>\n",
       "      <td>1187</td>\n",
       "      <td>12-12-2015</td>\n",
       "      <td>other vegetables</td>\n",
       "    </tr>\n",
       "    <tr>\n",
       "      <th>4</th>\n",
       "      <td>3037</td>\n",
       "      <td>01-02-2015</td>\n",
       "      <td>whole milk</td>\n",
       "    </tr>\n",
       "  </tbody>\n",
       "</table>\n",
       "</div>"
      ],
      "text/plain": [
       "   Member_number        Date   itemDescription\n",
       "0           1808  21-07-2015    tropical fruit\n",
       "1           2552  05-01-2015        whole milk\n",
       "2           2300  19-09-2015         pip fruit\n",
       "3           1187  12-12-2015  other vegetables\n",
       "4           3037  01-02-2015        whole milk"
      ]
     },
     "execution_count": 43,
     "metadata": {},
     "output_type": "execute_result"
    }
   ],
   "source": [
    "file_path = \"Groceries_dataset.csv\"\n",
    "data = pd.read_csv(file_path)\n",
    "data.head()"
   ]
  },
  {
   "cell_type": "markdown",
   "metadata": {},
   "source": [
    "### Analisa Data"
   ]
  },
  {
   "cell_type": "code",
   "execution_count": 44,
   "metadata": {},
   "outputs": [
    {
     "name": "stdout",
     "output_type": "stream",
     "text": [
      "Priview Dataset : \n",
      "   Member_number        Date   itemDescription\n",
      "0           1808  21-07-2015    tropical fruit\n",
      "1           2552  05-01-2015        whole milk\n",
      "2           2300  19-09-2015         pip fruit\n",
      "3           1187  12-12-2015  other vegetables\n",
      "4           3037  01-02-2015        whole milk\n",
      "\n",
      "\n",
      "Info Dataset : \n",
      "<class 'pandas.core.frame.DataFrame'>\n",
      "RangeIndex: 38765 entries, 0 to 38764\n",
      "Data columns (total 3 columns):\n",
      " #   Column           Non-Null Count  Dtype \n",
      "---  ------           --------------  ----- \n",
      " 0   Member_number    38765 non-null  int64 \n",
      " 1   Date             38765 non-null  object\n",
      " 2   itemDescription  38765 non-null  object\n",
      "dtypes: int64(1), object(2)\n",
      "memory usage: 908.7+ KB\n",
      "None\n",
      "\n",
      "Statistik Deskriptif Kolom Numerik : \n",
      "       Member_number\n",
      "count   38765.000000\n",
      "mean     3003.641868\n",
      "std      1153.611031\n",
      "min      1000.000000\n",
      "25%      2002.000000\n",
      "50%      3005.000000\n",
      "75%      4007.000000\n",
      "max      5000.000000\n"
     ]
    }
   ],
   "source": [
    "# Tampilkan informasi awal dataset\n",
    "print(\"Priview Dataset : \")\n",
    "print(data.head())\n",
    "print(\"\\n\\nInfo Dataset : \")\n",
    "print(data.info())\n",
    "print(\"\\nStatistik Deskriptif Kolom Numerik : \")\n",
    "print(data.describe())"
   ]
  },
  {
   "cell_type": "code",
   "execution_count": 45,
   "metadata": {},
   "outputs": [
    {
     "name": "stdout",
     "output_type": "stream",
     "text": [
      "\n",
      "\n",
      "Total Member : [1808 2552 2300 ... 3607 4587 2417]\n"
     ]
    }
   ],
   "source": [
    "# 1. Analisis Kolom 'Member_number'BaseExceptionGroup\n",
    "# Menghitung total member\n",
    "\n",
    "total_member = data['Member_number'].unique()\n",
    "print(f'\\n\\nTotal Member : {total_member}')"
   ]
  },
  {
   "cell_type": "code",
   "execution_count": 46,
   "metadata": {},
   "outputs": [
    {
     "name": "stdout",
     "output_type": "stream",
     "text": [
      "\n",
      "Top 5 Anggota dengan Transaksi Terbanyak\n",
      "Member_number\n",
      "3180    36\n",
      "3737    33\n",
      "3050    33\n",
      "2051    33\n",
      "2625    31\n",
      "Name: count, dtype: int64\n"
     ]
    }
   ],
   "source": [
    "# Top 5 anggota dengan transaksi terbanyak\n",
    "top_members = data['Member_number'].value_counts().head()\n",
    "print('\\nTop 5 Anggota dengan Transaksi Terbanyak')\n",
    "print(top_members)"
   ]
  },
  {
   "cell_type": "code",
   "execution_count": 47,
   "metadata": {},
   "outputs": [
    {
     "name": "stdout",
     "output_type": "stream",
     "text": [
      "\n",
      "Rentang waktu data : 2014-01-01 00:00:00 hingga 2015-12-30 00:00:00\n"
     ]
    }
   ],
   "source": [
    "# 2. Analisis Kolom 'Date' \n",
    "data['Date'] = pd.to_datetime(data['Date'], format='%d-%m-%Y')\n",
    "\n",
    "# Rentang waktu dataset\n",
    "start_date = data['Date'].min()\n",
    "end_date = data['Date'].max()\n",
    "print(f'\\nRentang waktu data : {start_date} hingga {end_date}')"
   ]
  },
  {
   "cell_type": "code",
   "execution_count": 48,
   "metadata": {},
   "outputs": [
    {
     "name": "stdout",
     "output_type": "stream",
     "text": [
      "\n",
      "Jumlah transaksi perbulan : \n",
      "Date\n",
      "2014-01    1527\n",
      "2014-02    1437\n",
      "2014-03    1411\n",
      "2014-04    1561\n",
      "2014-05    1615\n",
      "2014-06    1570\n",
      "2014-07    1576\n",
      "2014-08    1575\n",
      "2014-09    1472\n",
      "2014-10    1591\n",
      "2014-11    1469\n",
      "2014-12    1473\n",
      "2015-01    1797\n",
      "2015-02    1560\n",
      "2015-03    1722\n",
      "2015-04    1699\n",
      "2015-05    1793\n",
      "2015-06    1694\n",
      "2015-07    1724\n",
      "2015-08    1921\n",
      "2015-09    1587\n",
      "2015-10    1670\n",
      "2015-11    1785\n",
      "2015-12    1536\n",
      "Freq: M, Name: count, dtype: int64\n"
     ]
    }
   ],
   "source": [
    "# Hitung jumlah transaksi per bulan\n",
    "monthly_transactions = data['Date'].dt.to_period('M').value_counts().sort_index()\n",
    "print('\\nJumlah transaksi perbulan : ')\n",
    "print(monthly_transactions)"
   ]
  },
  {
   "cell_type": "code",
   "execution_count": 49,
   "metadata": {},
   "outputs": [
    {
     "data": {
      "image/png": "[encoded data removed]",
      "text/plain": [
       "<Figure size 1200x600 with 1 Axes>"
      ]
     },
     "metadata": {},
     "output_type": "display_data"
    }
   ],
   "source": [
    "# Visualisasi jumlah transaksi per bulan\n",
    "plt.figure(figsize=(12,6))\n",
    "monthly_transactions.plot(kind = 'bar', title = 'Transaksi per Bulan', color = 'skyblue')\n",
    "plt.xlabel('Bulan')\n",
    "plt.ylabel('Jumlah Transaksi')\n",
    "plt.xticks(rotation = 45)\n",
    "plt.show()"
   ]
  },
  {
   "cell_type": "code",
   "execution_count": 50,
   "metadata": {},
   "outputs": [
    {
     "name": "stdout",
     "output_type": "stream",
     "text": [
      "\n",
      "Top 10 Barang paling sering dibeli : \n",
      "itemDescription\n",
      "whole milk          2502\n",
      "other vegetables    1898\n",
      "rolls/buns          1716\n",
      "soda                1514\n",
      "yogurt              1334\n",
      "root vegetables     1071\n",
      "tropical fruit      1032\n",
      "bottled water        933\n",
      "sausage              924\n",
      "citrus fruit         812\n",
      "Name: count, dtype: int64\n"
     ]
    }
   ],
   "source": [
    "# 3. Analisis kolom 'itemDescription'\n",
    "# Barang paling sering dibeli\n",
    "item_counts = data['itemDescription'].value_counts()\n",
    "print('\\nTop 10 Barang paling sering dibeli : ')\n",
    "print(item_counts.head(10))"
   ]
  },
  {
   "cell_type": "code",
   "execution_count": 51,
   "metadata": {},
   "outputs": [
    {
     "data": {
      "image/png": "[encoded data removed]",
      "text/plain": [
       "<Figure size 1000x600 with 1 Axes>"
      ]
     },
     "metadata": {},
     "output_type": "display_data"
    }
   ],
   "source": [
    "# Visualisasi 10 barang teratas\n",
    "plt.figure(figsize=(10,6))\n",
    "item_counts.head(10).plot(kind = 'bar', title = 'Top 10 Barang paling sering dibeli', color = 'orange')\n",
    "plt.xlabel('Barang')\n",
    "plt.ylabel('Frekuensi')\n",
    "plt.xticks(rotation=45)\n",
    "plt.show()"
   ]
  },
  {
   "cell_type": "code",
   "execution_count": 52,
   "metadata": {},
   "outputs": [
    {
     "name": "stdout",
     "output_type": "stream",
     "text": [
      "\n",
      "Barang paling sering dibeli oleh anggota 1808 : \n",
      "itemDescription\n",
      "tropical fruit              1\n",
      "long life bakery product    1\n",
      "meat                        1\n",
      "sugar                       1\n",
      "rolls/buns                  1\n",
      "semi-finished bread         1\n",
      "whole milk                  1\n",
      "citrus fruit                1\n",
      "candy                       1\n",
      "napkins                     1\n",
      "Name: count, dtype: int64\n"
     ]
    }
   ],
   "source": [
    "# 4. Analisis gabungan\n",
    "# Barang yang paling sering dibeli oleh anggota tertentu\n",
    "member_id = 1808\n",
    "member_items = data[data['Member_number'] == member_id]['itemDescription'].value_counts()\n",
    "print(f'\\nBarang paling sering dibeli oleh anggota {member_id} : ')\n",
    "print(member_items)"
   ]
  },
  {
   "cell_type": "code",
   "execution_count": 53,
   "metadata": {},
   "outputs": [
    {
     "name": "stdout",
     "output_type": "stream",
     "text": [
      "\n",
      "Barang paling sering dibeli pada 2015-07 : \n",
      "itemDescription\n",
      "tropical fruit              1\n",
      "long life bakery product    1\n",
      "meat                        1\n",
      "sugar                       1\n",
      "rolls/buns                  1\n",
      "semi-finished bread         1\n",
      "whole milk                  1\n",
      "citrus fruit                1\n",
      "candy                       1\n",
      "napkins                     1\n",
      "Name: count, dtype: int64\n"
     ]
    }
   ],
   "source": [
    "# Pola pembelian barang pada bulan tertentu\n",
    "month = '2015-07'\n",
    "monthly_items = data[data['Date'].dt.to_period('M') == month]['itemDescription'].value_counts()\n",
    "print(f'\\nBarang paling sering dibeli pada {month} : ')\n",
    "print(member_items)"
   ]
  },
  {
   "cell_type": "code",
   "execution_count": 54,
   "metadata": {},
   "outputs": [
    {
     "name": "stdout",
     "output_type": "stream",
     "text": [
      "\n",
      "Jumlah barang unik : \n",
      "167\n"
     ]
    }
   ],
   "source": [
    "# Statistik tambahan : jumlah barang unik\n",
    "print('\\nJumlah barang unik : ')\n",
    "print(data['itemDescription'].nunique())"
   ]
  },
  {
   "cell_type": "markdown",
   "metadata": {},
   "source": [
    "### Data Preprocessing"
   ]
  },
  {
   "cell_type": "code",
   "execution_count": 55,
   "metadata": {},
   "outputs": [],
   "source": [
    "# Persiapan data : mengelompokan item berdasarkan Member_number dan Date\n",
    "transactions = data.groupby(['Member_number', 'Date'])['itemDescription'].apply(list)"
   ]
  },
  {
   "cell_type": "code",
   "execution_count": 56,
   "metadata": {},
   "outputs": [
    {
     "data": {
      "text/html": [
       "<div>\n",
       "<style scoped>\n",
       "    .dataframe tbody tr th:only-of-type {\n",
       "        vertical-align: middle;\n",
       "    }\n",
       "\n",
       "    .dataframe tbody tr th {\n",
       "        vertical-align: top;\n",
       "    }\n",
       "\n",
       "    .dataframe thead th {\n",
       "        text-align: right;\n",
       "    }\n",
       "</style>\n",
       "<table border=\"1\" class=\"dataframe\">\n",
       "  <thead>\n",
       "    <tr style=\"text-align: right;\">\n",
       "      <th></th>\n",
       "      <th>Instant food products</th>\n",
       "      <th>UHT-milk</th>\n",
       "      <th>abrasive cleaner</th>\n",
       "      <th>artif. sweetener</th>\n",
       "      <th>baby cosmetics</th>\n",
       "      <th>bags</th>\n",
       "      <th>baking powder</th>\n",
       "      <th>bathroom cleaner</th>\n",
       "      <th>beef</th>\n",
       "      <th>berries</th>\n",
       "      <th>...</th>\n",
       "      <th>turkey</th>\n",
       "      <th>vinegar</th>\n",
       "      <th>waffles</th>\n",
       "      <th>whipped/sour cream</th>\n",
       "      <th>whisky</th>\n",
       "      <th>white bread</th>\n",
       "      <th>white wine</th>\n",
       "      <th>whole milk</th>\n",
       "      <th>yogurt</th>\n",
       "      <th>zwieback</th>\n",
       "    </tr>\n",
       "  </thead>\n",
       "  <tbody>\n",
       "    <tr>\n",
       "      <th>0</th>\n",
       "      <td>False</td>\n",
       "      <td>False</td>\n",
       "      <td>False</td>\n",
       "      <td>False</td>\n",
       "      <td>False</td>\n",
       "      <td>False</td>\n",
       "      <td>False</td>\n",
       "      <td>False</td>\n",
       "      <td>False</td>\n",
       "      <td>False</td>\n",
       "      <td>...</td>\n",
       "      <td>False</td>\n",
       "      <td>False</td>\n",
       "      <td>False</td>\n",
       "      <td>False</td>\n",
       "      <td>False</td>\n",
       "      <td>False</td>\n",
       "      <td>False</td>\n",
       "      <td>True</td>\n",
       "      <td>False</td>\n",
       "      <td>False</td>\n",
       "    </tr>\n",
       "    <tr>\n",
       "      <th>1</th>\n",
       "      <td>False</td>\n",
       "      <td>False</td>\n",
       "      <td>False</td>\n",
       "      <td>False</td>\n",
       "      <td>False</td>\n",
       "      <td>False</td>\n",
       "      <td>False</td>\n",
       "      <td>False</td>\n",
       "      <td>False</td>\n",
       "      <td>False</td>\n",
       "      <td>...</td>\n",
       "      <td>False</td>\n",
       "      <td>False</td>\n",
       "      <td>False</td>\n",
       "      <td>False</td>\n",
       "      <td>False</td>\n",
       "      <td>False</td>\n",
       "      <td>False</td>\n",
       "      <td>True</td>\n",
       "      <td>True</td>\n",
       "      <td>False</td>\n",
       "    </tr>\n",
       "    <tr>\n",
       "      <th>2</th>\n",
       "      <td>False</td>\n",
       "      <td>False</td>\n",
       "      <td>False</td>\n",
       "      <td>False</td>\n",
       "      <td>False</td>\n",
       "      <td>False</td>\n",
       "      <td>False</td>\n",
       "      <td>False</td>\n",
       "      <td>False</td>\n",
       "      <td>False</td>\n",
       "      <td>...</td>\n",
       "      <td>False</td>\n",
       "      <td>False</td>\n",
       "      <td>False</td>\n",
       "      <td>False</td>\n",
       "      <td>False</td>\n",
       "      <td>False</td>\n",
       "      <td>False</td>\n",
       "      <td>False</td>\n",
       "      <td>False</td>\n",
       "      <td>False</td>\n",
       "    </tr>\n",
       "    <tr>\n",
       "      <th>3</th>\n",
       "      <td>False</td>\n",
       "      <td>False</td>\n",
       "      <td>False</td>\n",
       "      <td>False</td>\n",
       "      <td>False</td>\n",
       "      <td>False</td>\n",
       "      <td>False</td>\n",
       "      <td>False</td>\n",
       "      <td>False</td>\n",
       "      <td>False</td>\n",
       "      <td>...</td>\n",
       "      <td>False</td>\n",
       "      <td>False</td>\n",
       "      <td>False</td>\n",
       "      <td>False</td>\n",
       "      <td>False</td>\n",
       "      <td>False</td>\n",
       "      <td>False</td>\n",
       "      <td>False</td>\n",
       "      <td>False</td>\n",
       "      <td>False</td>\n",
       "    </tr>\n",
       "    <tr>\n",
       "      <th>4</th>\n",
       "      <td>False</td>\n",
       "      <td>False</td>\n",
       "      <td>False</td>\n",
       "      <td>False</td>\n",
       "      <td>False</td>\n",
       "      <td>False</td>\n",
       "      <td>False</td>\n",
       "      <td>False</td>\n",
       "      <td>False</td>\n",
       "      <td>False</td>\n",
       "      <td>...</td>\n",
       "      <td>False</td>\n",
       "      <td>False</td>\n",
       "      <td>False</td>\n",
       "      <td>False</td>\n",
       "      <td>False</td>\n",
       "      <td>False</td>\n",
       "      <td>False</td>\n",
       "      <td>False</td>\n",
       "      <td>False</td>\n",
       "      <td>False</td>\n",
       "    </tr>\n",
       "  </tbody>\n",
       "</table>\n",
       "<p>5 rows × 167 columns</p>\n",
       "</div>"
      ],
      "text/plain": [
       "   Instant food products  UHT-milk  abrasive cleaner  artif. sweetener  \\\n",
       "0                  False     False             False             False   \n",
       "1                  False     False             False             False   \n",
       "2                  False     False             False             False   \n",
       "3                  False     False             False             False   \n",
       "4                  False     False             False             False   \n",
       "\n",
       "   baby cosmetics   bags  baking powder  bathroom cleaner   beef  berries  \\\n",
       "0           False  False          False             False  False    False   \n",
       "1           False  False          False             False  False    False   \n",
       "2           False  False          False             False  False    False   \n",
       "3           False  False          False             False  False    False   \n",
       "4           False  False          False             False  False    False   \n",
       "\n",
       "   ...  turkey  vinegar  waffles  whipped/sour cream  whisky  white bread  \\\n",
       "0  ...   False    False    False               False   False        False   \n",
       "1  ...   False    False    False               False   False        False   \n",
       "2  ...   False    False    False               False   False        False   \n",
       "3  ...   False    False    False               False   False        False   \n",
       "4  ...   False    False    False               False   False        False   \n",
       "\n",
       "   white wine  whole milk  yogurt  zwieback  \n",
       "0       False        True   False     False  \n",
       "1       False        True    True     False  \n",
       "2       False       False   False     False  \n",
       "3       False       False   False     False  \n",
       "4       False       False   False     False  \n",
       "\n",
       "[5 rows x 167 columns]"
      ]
     },
     "execution_count": 56,
     "metadata": {},
     "output_type": "execute_result"
    }
   ],
   "source": [
    "te = TransactionEncoder()\n",
    "te_ary = te.fit(transactions).transform(transactions)\n",
    "df_encode = pd.DataFrame(te_ary, columns=te.columns_)\n",
    "df_encode.head()"
   ]
  },
  {
   "cell_type": "markdown",
   "metadata": {},
   "source": [
    "### Modeling"
   ]
  },
  {
   "cell_type": "code",
   "execution_count": 57,
   "metadata": {},
   "outputs": [
    {
     "name": "stdout",
     "output_type": "stream",
     "text": [
      "\n",
      "==== Apriori ====\n",
      "Frequent Itemsets (Apriori) : \n",
      "      support                      itemsets\n",
      "0    0.021386                    (UHT-milk)\n",
      "1    0.008087               (baking powder)\n",
      "2    0.033950                        (beef)\n",
      "3    0.021787                     (berries)\n",
      "4    0.016574                   (beverages)\n",
      "..        ...                           ...\n",
      "121  0.011629            (soda, whole milk)\n",
      "122  0.005814                (soda, yogurt)\n",
      "123  0.008220  (tropical fruit, whole milk)\n",
      "124  0.005213      (tropical fruit, yogurt)\n",
      "125  0.011161          (yogurt, whole milk)\n",
      "\n",
      "[126 rows x 2 columns]\n"
     ]
    }
   ],
   "source": [
    "# --- Algoritma Apriori ---\n",
    "print('\\n==== Apriori ====')\n",
    "frequent_itemsets_apriori = apriori(df_encode, min_support=0.005, use_colnames=True)\n",
    "print('Frequent Itemsets (Apriori) : ')\n",
    "print(frequent_itemsets_apriori)"
   ]
  },
  {
   "cell_type": "code",
   "execution_count": 58,
   "metadata": {},
   "outputs": [
    {
     "name": "stdout",
     "output_type": "stream",
     "text": [
      "\n",
      "==== FP-Growth ====\n",
      "Frequent Itemsets (FP-Growth) : \n",
      "      support                     itemsets\n",
      "0    0.157923                 (whole milk)\n",
      "1    0.051728                     (pastry)\n",
      "2    0.018780                (salty snack)\n",
      "3    0.085879                     (yogurt)\n",
      "4    0.060349                    (sausage)\n",
      "..        ...                          ...\n",
      "121  0.007151   (bottled beer, whole milk)\n",
      "122  0.005280  (whole milk, domestic eggs)\n",
      "123  0.005614     (newspapers, whole milk)\n",
      "124  0.007151   (whole milk, citrus fruit)\n",
      "125  0.005012           (pork, whole milk)\n",
      "\n",
      "[126 rows x 2 columns]\n"
     ]
    }
   ],
   "source": [
    "# Algoritma FP-Growth\n",
    "print('\\n==== FP-Growth ====')\n",
    "frequent_itemsets_fpgrowth = fpgrowth(df_encode, min_support=0.005, use_colnames=True)\n",
    "print('Frequent Itemsets (FP-Growth) : ')\n",
    "print(frequent_itemsets_fpgrowth)"
   ]
  },
  {
   "cell_type": "code",
   "execution_count": 59,
   "metadata": {},
   "outputs": [
    {
     "name": "stdout",
     "output_type": "stream",
     "text": [
      "\n",
      "Aturan Asosiasi (Apriori) : \n",
      "           antecedents         consequents   support  confidence      lift\n",
      "0       (bottled beer)        (whole milk)  0.007151    0.157817  0.999330\n",
      "1      (bottled water)        (whole milk)  0.007151    0.117841  0.746196\n",
      "2        (canned beer)        (whole milk)  0.006015    0.128205  0.811821\n",
      "3       (citrus fruit)        (whole milk)  0.007151    0.134591  0.852259\n",
      "4      (domestic eggs)        (whole milk)  0.005280    0.142342  0.901341\n",
      "5        (frankfurter)  (other vegetables)  0.005146    0.136283  1.116150\n",
      "6        (frankfurter)        (whole milk)  0.005280    0.139823  0.885388\n",
      "7         (newspapers)        (whole milk)  0.005614    0.144330  0.913926\n",
      "8   (other vegetables)        (whole milk)  0.014837    0.121511  0.769430\n",
      "9             (pastry)        (whole milk)  0.006483    0.125323  0.793571\n",
      "10         (pip fruit)        (whole milk)  0.006616    0.134877  0.854071\n",
      "11              (pork)        (whole milk)  0.005012    0.135135  0.855703\n",
      "12        (rolls/buns)        (whole milk)  0.013968    0.126974  0.804028\n",
      "13   (root vegetables)        (whole milk)  0.007552    0.108549  0.687357\n",
      "14           (sausage)        (whole milk)  0.008955    0.148394  0.939663\n",
      "15     (shopping bags)        (whole milk)  0.006349    0.133427  0.844887\n",
      "16              (soda)        (whole milk)  0.011629    0.119752  0.758296\n",
      "17    (tropical fruit)        (whole milk)  0.008220    0.121302  0.768108\n",
      "18            (yogurt)        (whole milk)  0.011161    0.129961  0.822940\n"
     ]
    }
   ],
   "source": [
    "# Menampilkan hasil aturan asosiasi\n",
    "print('\\nAturan Asosiasi (Apriori) : ')\n",
    "rules_apriori = association_rules(frequent_itemsets_apriori, metric='confidence', min_threshold=0.1, num_itemsets= 1)\n",
    "print(rules_apriori[['antecedents', 'consequents', 'support', 'confidence', 'lift']])"
   ]
  },
  {
   "cell_type": "code",
   "execution_count": 60,
   "metadata": {},
   "outputs": [
    {
     "name": "stdout",
     "output_type": "stream",
     "text": [
      "\n",
      "Aturan Asosiasi (FP-Growth) : \n",
      "           antecedents         consequents   support  confidence      lift\n",
      "0       (bottled beer)        (whole milk)  0.007151    0.157817  0.999330\n",
      "1      (bottled water)        (whole milk)  0.007151    0.117841  0.746196\n",
      "2        (canned beer)        (whole milk)  0.006015    0.128205  0.811821\n",
      "3       (citrus fruit)        (whole milk)  0.007151    0.134591  0.852259\n",
      "4      (domestic eggs)        (whole milk)  0.005280    0.142342  0.901341\n",
      "5        (frankfurter)  (other vegetables)  0.005146    0.136283  1.116150\n",
      "6        (frankfurter)        (whole milk)  0.005280    0.139823  0.885388\n",
      "7         (newspapers)        (whole milk)  0.005614    0.144330  0.913926\n",
      "8   (other vegetables)        (whole milk)  0.014837    0.121511  0.769430\n",
      "9             (pastry)        (whole milk)  0.006483    0.125323  0.793571\n",
      "10         (pip fruit)        (whole milk)  0.006616    0.134877  0.854071\n",
      "11              (pork)        (whole milk)  0.005012    0.135135  0.855703\n",
      "12        (rolls/buns)        (whole milk)  0.013968    0.126974  0.804028\n",
      "13   (root vegetables)        (whole milk)  0.007552    0.108549  0.687357\n",
      "14           (sausage)        (whole milk)  0.008955    0.148394  0.939663\n",
      "15     (shopping bags)        (whole milk)  0.006349    0.133427  0.844887\n",
      "16              (soda)        (whole milk)  0.011629    0.119752  0.758296\n",
      "17    (tropical fruit)        (whole milk)  0.008220    0.121302  0.768108\n",
      "18            (yogurt)        (whole milk)  0.011161    0.129961  0.822940\n"
     ]
    }
   ],
   "source": [
    "# Menampilkan hasil aturan asosiasi\n",
    "print('\\nAturan Asosiasi (FP-Growth) : ')\n",
    "rules_fpgrowth = association_rules(frequent_itemsets_fpgrowth, metric='confidence', min_threshold=0.1, num_itemsets = 0)\n",
    "print(rules_apriori[['antecedents', 'consequents', 'support', 'confidence', 'lift']])"
   ]
  }
 ],
 "metadata": {
  "kernelspec": {
   "display_name": "base",
   "language": "python",
   "name": "python3"
  },
  "language_info": {
   "codemirror_mode": {
    "name": "ipython",
    "version": 3
   },
   "file_extension": ".py",
   "mimetype": "text/x-python",
   "name": "python",
   "nbconvert_exporter": "python",
   "pygments_lexer": "ipython3",
   "version": "3.12.4"
  }
 },
 "nbformat": 4,
 "nbformat_minor": 2
}
